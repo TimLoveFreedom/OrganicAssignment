{
 "cells": [
  {
   "cell_type": "markdown",
   "metadata": {
    "collapsed": true
   },
   "source": [
    "1.导入需要用到的常用库"
   ]
  },
  {
   "cell_type": "code",
   "execution_count": 2,
   "metadata": {
    "collapsed": true
   },
   "outputs": [],
   "source": [
    "import pandas as pd\n",
    "import numpy as np\n",
    "import matplotlib.pyplot as plt\n",
    "%matplotlib inline\n",
    "from collections import Counter\n",
    "from sklearn.linear_model import LogisticRegression\n",
    "from sklearn.tree import DecisionTreeClassifier\n",
    "from sklearn.ensemble import RandomForestClassifier\n",
    "from sklearn.neural_network import MLPClassifier\n",
    "from sklearn.model_selection import GridSearchCV, cross_val_score, StratifiedKFold, learning_curve"
   ]
  },
  {
   "cell_type": "markdown",
   "metadata": {
    "collapsed": true
   },
   "source": [
    "2.加载数据集"
   ]
  },
  {
   "cell_type": "code",
   "execution_count": 4,
   "metadata": {
    "collapsed": true
   },
   "outputs": [],
   "source": [
    "#load data\n",
    "data=pd.read_csv('organics.csv')\n"
   ]
  },
  {
   "cell_type": "code",
   "execution_count": 5,
   "metadata": {},
   "outputs": [
    {
     "data": {
      "text/html": [
       "<div>\n",
       "<style>\n",
       "    .dataframe thead tr:only-child th {\n",
       "        text-align: right;\n",
       "    }\n",
       "\n",
       "    .dataframe thead th {\n",
       "        text-align: left;\n",
       "    }\n",
       "\n",
       "    .dataframe tbody tr th {\n",
       "        vertical-align: top;\n",
       "    }\n",
       "</style>\n",
       "<table border=\"1\" class=\"dataframe\">\n",
       "  <thead>\n",
       "    <tr style=\"text-align: right;\">\n",
       "      <th></th>\n",
       "      <th>CUSTID</th>\n",
       "      <th>GENDER</th>\n",
       "      <th>DOB</th>\n",
       "      <th>EDATE</th>\n",
       "      <th>AGE</th>\n",
       "      <th>AGEGRP1</th>\n",
       "      <th>AGEGRP2</th>\n",
       "      <th>TV_REG</th>\n",
       "      <th>NGROUP</th>\n",
       "      <th>NEIGHBORHOOD</th>\n",
       "      <th>LCDATE</th>\n",
       "      <th>ORGANICS</th>\n",
       "      <th>BILL</th>\n",
       "      <th>REGION</th>\n",
       "      <th>CLASS</th>\n",
       "      <th>AFFL</th>\n",
       "      <th>LTIME</th>\n",
       "    </tr>\n",
       "  </thead>\n",
       "  <tbody>\n",
       "    <tr>\n",
       "      <th>0</th>\n",
       "      <td>140</td>\n",
       "      <td>U</td>\n",
       "      <td>1921-09-16</td>\n",
       "      <td>1998-02-23</td>\n",
       "      <td>76.0</td>\n",
       "      <td>60-80</td>\n",
       "      <td>70-80</td>\n",
       "      <td>Wales &amp; West</td>\n",
       "      <td>C</td>\n",
       "      <td>16.0</td>\n",
       "      <td>1994-11-07</td>\n",
       "      <td>0</td>\n",
       "      <td>16000.00</td>\n",
       "      <td>Midlands</td>\n",
       "      <td>Gold</td>\n",
       "      <td>10.0</td>\n",
       "      <td>4.0</td>\n",
       "    </tr>\n",
       "    <tr>\n",
       "      <th>1</th>\n",
       "      <td>620</td>\n",
       "      <td>U</td>\n",
       "      <td>1949-02-12</td>\n",
       "      <td>1998-02-23</td>\n",
       "      <td>49.0</td>\n",
       "      <td>40-60</td>\n",
       "      <td>40-50</td>\n",
       "      <td>Wales &amp; West</td>\n",
       "      <td>D</td>\n",
       "      <td>35.0</td>\n",
       "      <td>1993-06-04</td>\n",
       "      <td>0</td>\n",
       "      <td>6000.00</td>\n",
       "      <td>Midlands</td>\n",
       "      <td>Gold</td>\n",
       "      <td>4.0</td>\n",
       "      <td>5.0</td>\n",
       "    </tr>\n",
       "    <tr>\n",
       "      <th>2</th>\n",
       "      <td>868</td>\n",
       "      <td>F</td>\n",
       "      <td>1927-11-27</td>\n",
       "      <td>1998-02-23</td>\n",
       "      <td>70.0</td>\n",
       "      <td>60-80</td>\n",
       "      <td>70-80</td>\n",
       "      <td>Wales &amp; West</td>\n",
       "      <td>D</td>\n",
       "      <td>27.0</td>\n",
       "      <td>1990-08-02</td>\n",
       "      <td>1</td>\n",
       "      <td>0.02</td>\n",
       "      <td>Midlands</td>\n",
       "      <td>Silver</td>\n",
       "      <td>5.0</td>\n",
       "      <td>8.0</td>\n",
       "    </tr>\n",
       "    <tr>\n",
       "      <th>3</th>\n",
       "      <td>1120</td>\n",
       "      <td>M</td>\n",
       "      <td>1932-04-10</td>\n",
       "      <td>1998-02-23</td>\n",
       "      <td>65.0</td>\n",
       "      <td>60-80</td>\n",
       "      <td>60-70</td>\n",
       "      <td>Midlands</td>\n",
       "      <td>F</td>\n",
       "      <td>51.0</td>\n",
       "      <td>1991-07-01</td>\n",
       "      <td>1</td>\n",
       "      <td>0.01</td>\n",
       "      <td>Midlands</td>\n",
       "      <td>Tin</td>\n",
       "      <td>10.0</td>\n",
       "      <td>7.0</td>\n",
       "    </tr>\n",
       "    <tr>\n",
       "      <th>4</th>\n",
       "      <td>2313</td>\n",
       "      <td>F</td>\n",
       "      <td>1929-05-21</td>\n",
       "      <td>1998-02-23</td>\n",
       "      <td>68.0</td>\n",
       "      <td>60-80</td>\n",
       "      <td>60-70</td>\n",
       "      <td>Midlands</td>\n",
       "      <td>A</td>\n",
       "      <td>4.0</td>\n",
       "      <td>1990-03-01</td>\n",
       "      <td>0</td>\n",
       "      <td>0.01</td>\n",
       "      <td>Midlands</td>\n",
       "      <td>Tin</td>\n",
       "      <td>11.0</td>\n",
       "      <td>8.0</td>\n",
       "    </tr>\n",
       "  </tbody>\n",
       "</table>\n",
       "</div>"
      ],
      "text/plain": [
       "   CUSTID GENDER         DOB       EDATE   AGE AGEGRP1 AGEGRP2        TV_REG  \\\n",
       "0     140      U  1921-09-16  1998-02-23  76.0   60-80   70-80  Wales & West   \n",
       "1     620      U  1949-02-12  1998-02-23  49.0   40-60   40-50  Wales & West   \n",
       "2     868      F  1927-11-27  1998-02-23  70.0   60-80   70-80  Wales & West   \n",
       "3    1120      M  1932-04-10  1998-02-23  65.0   60-80   60-70      Midlands   \n",
       "4    2313      F  1929-05-21  1998-02-23  68.0   60-80   60-70      Midlands   \n",
       "\n",
       "  NGROUP  NEIGHBORHOOD      LCDATE  ORGANICS      BILL    REGION   CLASS  \\\n",
       "0      C          16.0  1994-11-07         0  16000.00  Midlands    Gold   \n",
       "1      D          35.0  1993-06-04         0   6000.00  Midlands    Gold   \n",
       "2      D          27.0  1990-08-02         1      0.02  Midlands  Silver   \n",
       "3      F          51.0  1991-07-01         1      0.01  Midlands     Tin   \n",
       "4      A           4.0  1990-03-01         0      0.01  Midlands     Tin   \n",
       "\n",
       "   AFFL  LTIME  \n",
       "0  10.0    4.0  \n",
       "1   4.0    5.0  \n",
       "2   5.0    8.0  \n",
       "3  10.0    7.0  \n",
       "4  11.0    8.0  "
      ]
     },
     "execution_count": 5,
     "metadata": {},
     "output_type": "execute_result"
    }
   ],
   "source": [
    "data.head()"
   ]
  },
  {
   "cell_type": "markdown",
   "metadata": {
    "collapsed": true
   },
   "source": [
    "3.数据预处理\n",
    "    清洗数据的4C准则：\n",
    "    Correcting: 处理异常值\n",
    "    Completing: 处理缺失值\n",
    "    对于定性数据，一般用众数替代缺失值\n",
    "    对于定量数据，一般用均值、中位数或均值+标准差替代缺失值\n",
    "    删除不影响分析挖掘的特征\n",
    "    Creating: 特征工程。创建新的特征，挖掘隐藏的信息。\n",
    "    Converting: 转换数据格式。例如，将分类型数据进行编码，便于数学计算。"
   ]
  },
  {
   "cell_type": "code",
   "execution_count": 8,
   "metadata": {},
   "outputs": [
    {
     "data": {
      "text/html": [
       "<div>\n",
       "<style>\n",
       "    .dataframe thead tr:only-child th {\n",
       "        text-align: right;\n",
       "    }\n",
       "\n",
       "    .dataframe thead th {\n",
       "        text-align: left;\n",
       "    }\n",
       "\n",
       "    .dataframe tbody tr th {\n",
       "        vertical-align: top;\n",
       "    }\n",
       "</style>\n",
       "<table border=\"1\" class=\"dataframe\">\n",
       "  <thead>\n",
       "    <tr style=\"text-align: right;\">\n",
       "      <th></th>\n",
       "      <th>CUSTID</th>\n",
       "      <th>AGE</th>\n",
       "      <th>NEIGHBORHOOD</th>\n",
       "      <th>ORGANICS</th>\n",
       "      <th>BILL</th>\n",
       "      <th>AFFL</th>\n",
       "      <th>LTIME</th>\n",
       "    </tr>\n",
       "  </thead>\n",
       "  <tbody>\n",
       "    <tr>\n",
       "      <th>count</th>\n",
       "      <td>2.222300e+04</td>\n",
       "      <td>20715.000000</td>\n",
       "      <td>21549.000000</td>\n",
       "      <td>22223.000000</td>\n",
       "      <td>22223.000000</td>\n",
       "      <td>21138.000000</td>\n",
       "      <td>21942.000000</td>\n",
       "    </tr>\n",
       "    <tr>\n",
       "      <th>mean</th>\n",
       "      <td>2.605540e+07</td>\n",
       "      <td>53.797152</td>\n",
       "      <td>27.193652</td>\n",
       "      <td>0.294740</td>\n",
       "      <td>4420.590041</td>\n",
       "      <td>8.711893</td>\n",
       "      <td>6.564670</td>\n",
       "    </tr>\n",
       "    <tr>\n",
       "      <th>std</th>\n",
       "      <td>1.507497e+07</td>\n",
       "      <td>13.206048</td>\n",
       "      <td>15.751547</td>\n",
       "      <td>0.562831</td>\n",
       "      <td>7559.047522</td>\n",
       "      <td>3.421125</td>\n",
       "      <td>4.657113</td>\n",
       "    </tr>\n",
       "    <tr>\n",
       "      <th>min</th>\n",
       "      <td>1.400000e+02</td>\n",
       "      <td>18.000000</td>\n",
       "      <td>1.000000</td>\n",
       "      <td>0.000000</td>\n",
       "      <td>0.010000</td>\n",
       "      <td>0.000000</td>\n",
       "      <td>0.000000</td>\n",
       "    </tr>\n",
       "    <tr>\n",
       "      <th>25%</th>\n",
       "      <td>1.169402e+07</td>\n",
       "      <td>44.000000</td>\n",
       "      <td>14.000000</td>\n",
       "      <td>0.000000</td>\n",
       "      <td>0.010000</td>\n",
       "      <td>6.000000</td>\n",
       "      <td>4.000000</td>\n",
       "    </tr>\n",
       "    <tr>\n",
       "      <th>50%</th>\n",
       "      <td>2.874879e+07</td>\n",
       "      <td>54.000000</td>\n",
       "      <td>27.000000</td>\n",
       "      <td>0.000000</td>\n",
       "      <td>2000.000000</td>\n",
       "      <td>8.000000</td>\n",
       "      <td>5.000000</td>\n",
       "    </tr>\n",
       "    <tr>\n",
       "      <th>75%</th>\n",
       "      <td>3.745402e+07</td>\n",
       "      <td>64.000000</td>\n",
       "      <td>38.000000</td>\n",
       "      <td>0.000000</td>\n",
       "      <td>6000.000000</td>\n",
       "      <td>11.000000</td>\n",
       "      <td>8.000000</td>\n",
       "    </tr>\n",
       "    <tr>\n",
       "      <th>max</th>\n",
       "      <td>5.285647e+07</td>\n",
       "      <td>79.000000</td>\n",
       "      <td>55.000000</td>\n",
       "      <td>3.000000</td>\n",
       "      <td>296313.850000</td>\n",
       "      <td>34.000000</td>\n",
       "      <td>39.000000</td>\n",
       "    </tr>\n",
       "  </tbody>\n",
       "</table>\n",
       "</div>"
      ],
      "text/plain": [
       "             CUSTID           AGE  NEIGHBORHOOD      ORGANICS           BILL  \\\n",
       "count  2.222300e+04  20715.000000  21549.000000  22223.000000   22223.000000   \n",
       "mean   2.605540e+07     53.797152     27.193652      0.294740    4420.590041   \n",
       "std    1.507497e+07     13.206048     15.751547      0.562831    7559.047522   \n",
       "min    1.400000e+02     18.000000      1.000000      0.000000       0.010000   \n",
       "25%    1.169402e+07     44.000000     14.000000      0.000000       0.010000   \n",
       "50%    2.874879e+07     54.000000     27.000000      0.000000    2000.000000   \n",
       "75%    3.745402e+07     64.000000     38.000000      0.000000    6000.000000   \n",
       "max    5.285647e+07     79.000000     55.000000      3.000000  296313.850000   \n",
       "\n",
       "               AFFL         LTIME  \n",
       "count  21138.000000  21942.000000  \n",
       "mean       8.711893      6.564670  \n",
       "std        3.421125      4.657113  \n",
       "min        0.000000      0.000000  \n",
       "25%        6.000000      4.000000  \n",
       "50%        8.000000      5.000000  \n",
       "75%       11.000000      8.000000  \n",
       "max       34.000000     39.000000  "
      ]
     },
     "execution_count": 8,
     "metadata": {},
     "output_type": "execute_result"
    }
   ],
   "source": [
    "data.describe()"
   ]
  },
  {
   "cell_type": "code",
   "execution_count": 9,
   "metadata": {},
   "outputs": [
    {
     "data": {
      "text/plain": [
       "CUSTID             0\n",
       "GENDER          2512\n",
       "DOB                0\n",
       "EDATE              0\n",
       "AGE             1508\n",
       "AGEGRP1         1508\n",
       "AGEGRP2         1508\n",
       "TV_REG           465\n",
       "NGROUP           674\n",
       "NEIGHBORHOOD     674\n",
       "LCDATE           281\n",
       "ORGANICS           0\n",
       "BILL               0\n",
       "REGION           465\n",
       "CLASS              0\n",
       "AFFL            1085\n",
       "LTIME            281\n",
       "dtype: int64"
      ]
     },
     "execution_count": 9,
     "metadata": {},
     "output_type": "execute_result"
    }
   ],
   "source": [
    "# Fill empty and NaNs values with NaN\n",
    "data = data.fillna(np.nan)\n",
    "# Check for Null values\n",
    "data.isnull().sum()"
   ]
  },
  {
   "cell_type": "code",
   "execution_count": null,
   "metadata": {
    "collapsed": true
   },
   "outputs": [],
   "source": [
    "#缺失值填充\n",
    "\n",
    "data.GENDER[data.GENDER.isnull()]=data.GENDER.dropna().mode().values  #gender众数填充缺失值\n",
    "data.loc[data['GENDER'] == 'F','GENDER'] = 0    \n",
    "data.loc[data['GENDER'] == 'M','GENDER'] = 1   \n",
    "data.loc[data['GENDER'] == 'U','GENDER'] = 2 \n",
    "\n",
    "data['AGE']=(pd.to_datetime(data['EDATE'])-pd.to_datetime(data['DOB'])).dt.days.apply(lambda x:math.floor(x/365)) #\n",
    "def split_Age1(x):\n",
    "    if x>=0 and x<=20:\n",
    "        return 0\n",
    "    elif x<=40:\n",
    "        return 1\n",
    "    elif x<=60:\n",
    "        return 2\n",
    "    elif x<=80:\n",
    "        return 3\n",
    "    elif x<=100:\n",
    "        return 4\n",
    "    \n",
    "def split_Age2(x):\n",
    "    if x>=0 and x<=10:\n",
    "        return 0\n",
    "    elif x<=20:\n",
    "        return 1\n",
    "    elif x<=30:\n",
    "        return 2\n",
    "    elif x<=40:\n",
    "        return 3\n",
    "    elif x<=50:\n",
    "        return 4\n",
    "    elif x<=60:\n",
    "        return 5\n",
    "    elif x<=70:\n",
    "        return 6\n",
    "    elif x<=80:\n",
    "        return 7\n",
    "    elif x<=90:\n",
    "        return 8\n",
    "    elif x<=100:\n",
    "        return 9\n",
    "data['AGEGRP1']=df.AGE.apply(split_Age1)\n",
    "data['AGEGRP2']=df.AGE.apply(split_Age2)\n",
    "data.TV_REG[data.TV_REG.isnull()]=data.TV_REG.dropna().mode().values  #TV_REG\n",
    "data.NGROUP[data.NGROUP.isnull()]=data.NGROUP.dropna().mode().values\n",
    "data.NEIGHBORHOOD[data.NEIGHBORHOOD.isnull()]=data.NEIGHBORHOOD.dropna().mode().values\n",
    "\n",
    "data.LCDATE[data.LCDATE.isnull()]=data.LCDATE.dropna().mode().values #日期格式\n",
    "\n",
    "data.REGION[data.REGION.isnull()]=data.REGION.dropna().mode().values\n",
    "\n",
    "data.AFFL[data.AFFL.isnull()]=data.AFFL.dropna().mean().values\n",
    "data.LTIME[data.LTIME.isnull()]=data.LTIME.dropna().mean().values"
   ]
  },
  {
   "cell_type": "code",
   "execution_count": null,
   "metadata": {
    "collapsed": true
   },
   "outputs": [],
   "source": [
    "#异常值填充\n"
   ]
  },
  {
   "cell_type": "code",
   "execution_count": null,
   "metadata": {
    "collapsed": true
   },
   "outputs": [],
   "source": [
    "data.isnull().sum()"
   ]
  },
  {
   "cell_type": "markdown",
   "metadata": {
    "collapsed": true
   },
   "source": [
    "4.模型训练\n",
    "    "
   ]
  },
  {
   "cell_type": "code",
   "execution_count": null,
   "metadata": {
    "collapsed": true
   },
   "outputs": [],
   "source": [
    "# 从数据集中移除 'ORGYN' 这个特征，并将它存储在一个新的变量中。\n",
    "labels = data['ORGYN']\n",
    "features = data.drop('ORGYN', axis = 1)\n",
    "#数据切分\n",
    "X_train, X_test, y_train, y_test = train_test_split(features, labels, test_size=0.3, random_state=42)\n",
    "\n"
   ]
  },
  {
   "cell_type": "markdown",
   "metadata": {},
   "source": [
    "Task 2. Predictive Modeling Using Decision Trees"
   ]
  },
  {
   "cell_type": "markdown",
   "metadata": {},
   "source": [
    "1、"
   ]
  },
  {
   "cell_type": "code",
   "execution_count": null,
   "metadata": {
    "collapsed": true
   },
   "outputs": [],
   "source": [
    "from sklearn.tree import DecisionTreeClassifier\n",
    "dtc_Model= DecisionTreeClassifier()\n",
    "dtc_Model.fit(x_train,y_train)\n",
    "predictions_train=dtc_Model.predict(x_train)\n",
    "predictions_test=dtc_Model.predict(x_test)\n",
    "#accuracy\n",
    "print('the accuracy of the train data:{}'.format(dtc_Model.score(predictions_train,y_train)))\n",
    "print('the accuracy of the test data:{}'.format(dtc_Model.score(predictions_test,y_train)))\n",
    "#the params of the decision tree\n",
    "print('the params of the decision tree:{}'.format(dtc_Model.get_params()))\n",
    "\n",
    "\n",
    "#export the decision tree by the following path\n",
    "#https://www.cnblogs.com/zhaoxy/p/5054938.html\n",
    "\n",
    "#采用的是Gini指数 split\n",
    "\n",
    "''''' 系数反映每个特征的影响力。越大表示该特征在分类中起到的作用越大 '''  \n",
    "print(dtc_Model.feature_importances_) \n",
    "\n",
    "#overfitting?      compare the accuracy of the train and the accuracy of the test data\n",
    "\n",
    "\n",
    "#dtc_Model= DecisionTreeClassifier(splitter=‘random’)   the default value of the splitter is best\n"
   ]
  },
  {
   "cell_type": "markdown",
   "metadata": {},
   "source": [
    "2、"
   ]
  },
  {
   "cell_type": "code",
   "execution_count": null,
   "metadata": {
    "collapsed": true
   },
   "outputs": [],
   "source": [
    "#gridsearchcv  decision tree\n",
    "tree_para = {'criterion':['gini','entropy'],'max_depth':[4,5,6,7,8,9,10,11,12,15,20,30,40,50,70,90,120,150]}\n",
    "cv_dtc= GridSearchCV(DecisionTreeClassifier(), tree_para, cv=5)\n",
    "cv_dtc.fit(X_train, y_train)\n",
    "\n",
    "\n",
    "predictions_train=cv_dtc.predict(x_train)\n",
    "predictions_test=cv_dtc.predict(x_test)\n",
    "#accuracy\n",
    "print('the accuracy of the train data:{}'.format(cv_dtc.score(predictions_train,y_train)))\n",
    "print('the accuracy of the test data:{}'.format(cv_dtc.score(predictions_test,y_train)))\n",
    "\n",
    "\n",
    "#the used parameters \n",
    "print(cv_dtc.get_params())\n",
    "\n",
    "#the optimal parameters for this decision tree\n",
    "print(cv_dtc.best_estimator_.get_params())\n",
    "\n",
    "\n",
    "#feature_importances_\n",
    "print(cv_dtc.best_estimator_.feature_importances_)\n"
   ]
  },
  {
   "cell_type": "markdown",
   "metadata": {},
   "source": [
    "3、"
   ]
  },
  {
   "cell_type": "code",
   "execution_count": null,
   "metadata": {
    "collapsed": true
   },
   "outputs": [],
   "source": [
    "compare the accuracy of the test data:\n",
    "    if 2.2  the accuracy of the test data > 2.1 accuracy\n",
    "        gridsearchcv  choose the best params"
   ]
  },
  {
   "cell_type": "code",
   "execution_count": null,
   "metadata": {
    "collapsed": true
   },
   "outputs": [],
   "source": [
    "#normalizing\n",
    "\n",
    "#logistic regression\n",
    "lr=LogisticRegression()\n",
    "lr.fit(X_train,y_train)\n",
    "\n",
    "#GridSearchCV  逻辑回归\n",
    "param_grid = {'C': [0.001, 0.01, 0.1, 1, 10, 100, 1000] }\n",
    "clf_cv = GridSearchCV(LogisticRegression(penalty='l2'), param_grid)  #cv默认为3\n",
    "clf_cv.fit(X_train, y_train)  # default(X_train  y_train) or optimal(X_train['agegroup'])\n",
    "\n",
    "#accuracy\n",
    "predictions_train=lr.predict(x_train)\n",
    "predictions_test=lr.predict(x_test)\n",
    "predictions_train=clf_cv.predict(x_train)\n",
    "predictions_test=clf_cv.predict(x_test)\n",
    "\n",
    "print('the accuracy of the train data by LogisticRegression:{}'.format(lr.score(predictions_train,y_train)))\n",
    "print('the accuracy of the test data by LogisticRegression:{}'.format(lr.score(predictions_test,y_train)))\n",
    "print('the accuracy of the train data by GridSearchCV:{}'.format(clf_cv.score(predictions_train,y_train)))\n",
    "print('the accuracy of the test data by GridSearchCV:{}'.format(clf_cv.score(predictions_test,y_train)))\n",
    "\n",
    "#输出最优的模型参数\n",
    "print(clf.best_params_)\n",
    "#选择出特征权值比较大的feature\n",
    "\n",
    "#rfe来筛选特征\n",
    "estimator=LogisticRegression()\n",
    "selector = RFE(estimator, 5, step=1)\n",
    "selector = selector.fit(X_train, y_train)\n",
    "#模型预测比较（all  inputs  or  optimal inputs  可以使用准确率比较哪个效果更好）\n",
    "#应该是optimal  inputs效果比较好，因为all inputs 噪音比较大"
   ]
  },
  {
   "cell_type": "markdown",
   "metadata": {
    "collapsed": true
   },
   "source": [
    "Task 4. Predictive Modeling Using Neural Networks"
   ]
  },
  {
   "cell_type": "code",
   "execution_count": null,
   "metadata": {
    "collapsed": true
   },
   "outputs": [],
   "source": [
    "#mlpc\n",
    "mlpc=MLPClassifier()\n",
    "mlpc.fit(X_train,y_train)\n",
    "\n",
    "#gridsearchcv\n",
    "param_grid = {\n",
    "        'hidden_layer_sizes': [(7, 7), (128,), (128, 7)],\n",
    "        'tol': [1e-2, 1e-3, 1e-4, 1e-5, 1e-6],\n",
    "        'epsilon': [1e-3, 1e-7, 1e-8, 1e-9, 1e-8]\n",
    "    }\n",
    "estimator = GridSearchCV(\n",
    "        MLPClassifier(learning_rate='adaptive', learning_rate_init=1., early_stopping=True, shuffle=True),\n",
    "        param_grid=param_grid, n_jobs=-1)\n",
    "estimator.fit(X_train, y_train)\n",
    "print(estimator.best_estimator_)\n"
   ]
  }
 ],
 "metadata": {
  "kernelspec": {
   "display_name": "Python 3",
   "language": "python",
   "name": "python3"
  },
  "language_info": {
   "codemirror_mode": {
    "name": "ipython",
    "version": 3
   },
   "file_extension": ".py",
   "mimetype": "text/x-python",
   "name": "python",
   "nbconvert_exporter": "python",
   "pygments_lexer": "ipython3",
   "version": "3.6.3"
  }
 },
 "nbformat": 4,
 "nbformat_minor": 2
}
