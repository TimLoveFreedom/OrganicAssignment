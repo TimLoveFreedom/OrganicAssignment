{
 "cells": [
  {
   "cell_type": "code",
   "execution_count": 1,
   "metadata": {
    "collapsed": true
   },
   "outputs": [],
   "source": [
    "import pandas as pd\n",
    "import math\n",
    "import seaborn as sb\n",
    "import matplotlib.pyplot as plt\n",
    "from sklearn.model_selection import train_test_split\n",
    "df = pd.read_csv('organics.csv', index_col=0)\n"
   ]
  },
  {
   "cell_type": "code",
   "execution_count": 2,
   "metadata": {},
   "outputs": [
    {
     "name": "stdout",
     "output_type": "stream",
     "text": [
      "<class 'pandas.core.frame.DataFrame'>\n",
      "Int64Index: 22223 entries, 140 to 52856469\n",
      "Data columns (total 17 columns):\n",
      "GENDER          19711 non-null object\n",
      "DOB             22223 non-null object\n",
      "EDATE           22223 non-null object\n",
      "AGE             20715 non-null float64\n",
      "AGEGRP1         20715 non-null object\n",
      "AGEGRP2         20715 non-null object\n",
      "TV_REG          21758 non-null object\n",
      "NGROUP          21549 non-null object\n",
      "NEIGHBORHOOD    21549 non-null float64\n",
      "LCDATE          21942 non-null object\n",
      "ORGANICS        22223 non-null int64\n",
      "BILL            22223 non-null float64\n",
      "REGION          21758 non-null object\n",
      "CLASS           22223 non-null object\n",
      "ORGYN           22223 non-null int64\n",
      "AFFL            21138 non-null float64\n",
      "LTIME           21942 non-null float64\n",
      "dtypes: float64(5), int64(2), object(10)\n",
      "memory usage: 3.1+ MB\n"
     ]
    }
   ],
   "source": [
    "df.info()"
   ]
  },
  {
   "cell_type": "code",
   "execution_count": 21,
   "metadata": {},
   "outputs": [
    {
     "data": {
      "text/html": [
       "<div>\n",
       "<style>\n",
       "    .dataframe thead tr:only-child th {\n",
       "        text-align: right;\n",
       "    }\n",
       "\n",
       "    .dataframe thead th {\n",
       "        text-align: left;\n",
       "    }\n",
       "\n",
       "    .dataframe tbody tr th {\n",
       "        vertical-align: top;\n",
       "    }\n",
       "</style>\n",
       "<table border=\"1\" class=\"dataframe\">\n",
       "  <thead>\n",
       "    <tr style=\"text-align: right;\">\n",
       "      <th></th>\n",
       "      <th>GENDER</th>\n",
       "      <th>DOB</th>\n",
       "      <th>EDATE</th>\n",
       "      <th>AGE</th>\n",
       "      <th>AGEGRP1</th>\n",
       "      <th>AGEGRP2</th>\n",
       "      <th>TV_REG</th>\n",
       "      <th>NGROUP</th>\n",
       "      <th>NEIGHBORHOOD</th>\n",
       "      <th>LCDATE</th>\n",
       "      <th>ORGANICS</th>\n",
       "      <th>BILL</th>\n",
       "      <th>REGION</th>\n",
       "      <th>CLASS</th>\n",
       "      <th>ORGYN</th>\n",
       "      <th>AFFL</th>\n",
       "      <th>LTIME</th>\n",
       "    </tr>\n",
       "    <tr>\n",
       "      <th>CUSTID</th>\n",
       "      <th></th>\n",
       "      <th></th>\n",
       "      <th></th>\n",
       "      <th></th>\n",
       "      <th></th>\n",
       "      <th></th>\n",
       "      <th></th>\n",
       "      <th></th>\n",
       "      <th></th>\n",
       "      <th></th>\n",
       "      <th></th>\n",
       "      <th></th>\n",
       "      <th></th>\n",
       "      <th></th>\n",
       "      <th></th>\n",
       "      <th></th>\n",
       "      <th></th>\n",
       "    </tr>\n",
       "  </thead>\n",
       "  <tbody>\n",
       "    <tr>\n",
       "      <th>140</th>\n",
       "      <td>U</td>\n",
       "      <td>1921-09-16</td>\n",
       "      <td>1998-02-23</td>\n",
       "      <td>76</td>\n",
       "      <td>3</td>\n",
       "      <td>70-80</td>\n",
       "      <td>Wales &amp; West</td>\n",
       "      <td>C</td>\n",
       "      <td>16.0</td>\n",
       "      <td>1994-11-07</td>\n",
       "      <td>0</td>\n",
       "      <td>16000.00</td>\n",
       "      <td>Midlands</td>\n",
       "      <td>Gold</td>\n",
       "      <td>0</td>\n",
       "      <td>10.0</td>\n",
       "      <td>4.0</td>\n",
       "    </tr>\n",
       "    <tr>\n",
       "      <th>620</th>\n",
       "      <td>U</td>\n",
       "      <td>1949-02-12</td>\n",
       "      <td>1998-02-23</td>\n",
       "      <td>49</td>\n",
       "      <td>2</td>\n",
       "      <td>40-50</td>\n",
       "      <td>Wales &amp; West</td>\n",
       "      <td>D</td>\n",
       "      <td>35.0</td>\n",
       "      <td>1993-06-04</td>\n",
       "      <td>0</td>\n",
       "      <td>6000.00</td>\n",
       "      <td>Midlands</td>\n",
       "      <td>Gold</td>\n",
       "      <td>0</td>\n",
       "      <td>4.0</td>\n",
       "      <td>5.0</td>\n",
       "    </tr>\n",
       "    <tr>\n",
       "      <th>868</th>\n",
       "      <td>F</td>\n",
       "      <td>1927-11-27</td>\n",
       "      <td>1998-02-23</td>\n",
       "      <td>70</td>\n",
       "      <td>3</td>\n",
       "      <td>70-80</td>\n",
       "      <td>Wales &amp; West</td>\n",
       "      <td>D</td>\n",
       "      <td>27.0</td>\n",
       "      <td>1990-08-02</td>\n",
       "      <td>1</td>\n",
       "      <td>0.02</td>\n",
       "      <td>Midlands</td>\n",
       "      <td>Silver</td>\n",
       "      <td>1</td>\n",
       "      <td>5.0</td>\n",
       "      <td>8.0</td>\n",
       "    </tr>\n",
       "    <tr>\n",
       "      <th>1120</th>\n",
       "      <td>M</td>\n",
       "      <td>1932-04-10</td>\n",
       "      <td>1998-02-23</td>\n",
       "      <td>65</td>\n",
       "      <td>3</td>\n",
       "      <td>60-70</td>\n",
       "      <td>Midlands</td>\n",
       "      <td>F</td>\n",
       "      <td>51.0</td>\n",
       "      <td>1991-07-01</td>\n",
       "      <td>1</td>\n",
       "      <td>0.01</td>\n",
       "      <td>Midlands</td>\n",
       "      <td>Tin</td>\n",
       "      <td>1</td>\n",
       "      <td>10.0</td>\n",
       "      <td>7.0</td>\n",
       "    </tr>\n",
       "    <tr>\n",
       "      <th>2313</th>\n",
       "      <td>F</td>\n",
       "      <td>1929-05-21</td>\n",
       "      <td>1998-02-23</td>\n",
       "      <td>68</td>\n",
       "      <td>3</td>\n",
       "      <td>60-70</td>\n",
       "      <td>Midlands</td>\n",
       "      <td>A</td>\n",
       "      <td>4.0</td>\n",
       "      <td>1990-03-01</td>\n",
       "      <td>0</td>\n",
       "      <td>0.01</td>\n",
       "      <td>Midlands</td>\n",
       "      <td>Tin</td>\n",
       "      <td>0</td>\n",
       "      <td>11.0</td>\n",
       "      <td>8.0</td>\n",
       "    </tr>\n",
       "  </tbody>\n",
       "</table>\n",
       "</div>"
      ],
      "text/plain": [
       "       GENDER         DOB       EDATE  AGE  AGEGRP1 AGEGRP2        TV_REG  \\\n",
       "CUSTID                                                                      \n",
       "140         U  1921-09-16  1998-02-23   76        3   70-80  Wales & West   \n",
       "620         U  1949-02-12  1998-02-23   49        2   40-50  Wales & West   \n",
       "868         F  1927-11-27  1998-02-23   70        3   70-80  Wales & West   \n",
       "1120        M  1932-04-10  1998-02-23   65        3   60-70      Midlands   \n",
       "2313        F  1929-05-21  1998-02-23   68        3   60-70      Midlands   \n",
       "\n",
       "       NGROUP  NEIGHBORHOOD      LCDATE  ORGANICS      BILL    REGION   CLASS  \\\n",
       "CUSTID                                                                          \n",
       "140         C          16.0  1994-11-07         0  16000.00  Midlands    Gold   \n",
       "620         D          35.0  1993-06-04         0   6000.00  Midlands    Gold   \n",
       "868         D          27.0  1990-08-02         1      0.02  Midlands  Silver   \n",
       "1120        F          51.0  1991-07-01         1      0.01  Midlands     Tin   \n",
       "2313        A           4.0  1990-03-01         0      0.01  Midlands     Tin   \n",
       "\n",
       "        ORGYN  AFFL  LTIME  \n",
       "CUSTID                      \n",
       "140         0  10.0    4.0  \n",
       "620         0   4.0    5.0  \n",
       "868         1   5.0    8.0  \n",
       "1120        1  10.0    7.0  \n",
       "2313        0  11.0    8.0  "
      ]
     },
     "execution_count": 21,
     "metadata": {},
     "output_type": "execute_result"
    }
   ],
   "source": [
    "df.head()"
   ]
  },
  {
   "cell_type": "code",
   "execution_count": 13,
   "metadata": {
    "scrolled": false
   },
   "outputs": [],
   "source": [
    "df['AGE']=(pd.to_datetime(df['EDATE'])-pd.to_datetime(df['DOB'])).dt.days.apply(lambda x:math.floor(x/365))"
   ]
  },
  {
   "cell_type": "code",
   "execution_count": 17,
   "metadata": {
    "collapsed": true
   },
   "outputs": [],
   "source": [
    "def split_Age(x):\n",
    "    if x>=0 and x<=20:\n",
    "        return 0\n",
    "    elif x<=40:\n",
    "        return 1\n",
    "    elif x<=60:\n",
    "        return 2\n",
    "    elif x<=80:\n",
    "        return 3\n",
    "    elif x<=100:\n",
    "        return 4\n",
    "        "
   ]
  },
  {
   "cell_type": "code",
   "execution_count": 18,
   "metadata": {
    "collapsed": true
   },
   "outputs": [],
   "source": [
    "df['AGEGRP1']=df.AGE.apply(split_Age)"
   ]
  },
  {
   "cell_type": "code",
   "execution_count": 22,
   "metadata": {},
   "outputs": [
    {
     "data": {
      "image/png": "[encoded data removed]",
      "text/plain": [
       "<matplotlib.figure.Figure at 0x7f22ef531cf8>"
      ]
     },
     "metadata": {},
     "output_type": "display_data"
    }
   ],
   "source": [
    "g = sb.boxplot(x='AGEGRP1',y='ORGYN',data=df)\n",
    "plt.show()"
   ]
  },
  {
   "cell_type": "code",
   "execution_count": null,
   "metadata": {
    "collapsed": true
   },
   "outputs": [],
   "source": []
  },
  {
   "cell_type": "code",
   "execution_count": 33,
   "metadata": {
    "collapsed": true
   },
   "outputs": [],
   "source": [
    "df['AGEGRP1'].fillna(df['AGEGRP1'].mode()[0], inplace=True)"
   ]
  },
  {
   "cell_type": "code",
   "execution_count": 38,
   "metadata": {
    "collapsed": true
   },
   "outputs": [],
   "source": [
    "df['GENDER'].fillna(df['GENDER'].mode()[0], inplace=True)"
   ]
  },
  {
   "cell_type": "code",
   "execution_count": null,
   "metadata": {
    "collapsed": true
   },
   "outputs": [],
   "source": [
    "df['GENDER'].fillna(df['GENDER'].mean()[0], inplace=True)"
   ]
  },
  {
   "cell_type": "code",
   "execution_count": 39,
   "metadata": {},
   "outputs": [
    {
     "name": "stdout",
     "output_type": "stream",
     "text": [
      "<class 'pandas.core.frame.DataFrame'>\n",
      "Int64Index: 22223 entries, 140 to 52856469\n",
      "Data columns (total 10 columns):\n",
      "GENDER     22223 non-null object\n",
      "AGE        20715 non-null float64\n",
      "AGEGRP1    22223 non-null object\n",
      "NGROUP     21549 non-null object\n",
      "BILL       22223 non-null float64\n",
      "REGION     21758 non-null object\n",
      "CLASS      22223 non-null object\n",
      "ORGYN      22223 non-null int64\n",
      "AFFL       21138 non-null float64\n",
      "LTIME      21942 non-null float64\n",
      "dtypes: float64(4), int64(1), object(5)\n",
      "memory usage: 2.5+ MB\n"
     ]
    }
   ],
   "source": [
    "df.drop(['DOB','EDATE','AGEGRP2','TV_REG','NEIGHBORHOOD','LCDATE','ORGANICS'],axis=1,inplace=True)\n",
    "df.info()"
   ]
  },
  {
   "cell_type": "code",
   "execution_count": 14,
   "metadata": {},
   "outputs": [
    {
     "name": "stdout",
     "output_type": "stream",
     "text": [
      "<class 'pandas.core.frame.DataFrame'>\n",
      "Int64Index: 22223 entries, 140 to 52856469\n",
      "Data columns (total 10 columns):\n",
      "GENDER     19711 non-null object\n",
      "AGE        20715 non-null float64\n",
      "AGEGRP1    20715 non-null object\n",
      "NGROUP     21549 non-null object\n",
      "BILL       22223 non-null float64\n",
      "REGION     21758 non-null object\n",
      "CLASS      22223 non-null object\n",
      "ORGYN      22223 non-null int64\n",
      "AFFL       21138 non-null float64\n",
      "LTIME      21942 non-null float64\n",
      "dtypes: float64(4), int64(1), object(5)\n",
      "memory usage: 2.5+ MB\n"
     ]
    }
   ],
   "source": [
    "df['Car'].fillna(df['Car'].mean(), inplace=True)"
   ]
  },
  {
   "cell_type": "code",
   "execution_count": 9,
   "metadata": {},
   "outputs": [
    {
     "name": "stdout",
     "output_type": "stream",
     "text": [
      "<class 'pandas.core.frame.DataFrame'>\n",
      "Int64Index: 22223 entries, 140 to 52856469\n",
      "Data columns (total 30 columns):\n",
      "BILL                 22223 non-null float64\n",
      "ORGYN                22223 non-null int64\n",
      "AFFL                 21138 non-null float64\n",
      "LTIME                21942 non-null float64\n",
      "GENDER_F             22223 non-null uint8\n",
      "GENDER_M             22223 non-null uint8\n",
      "GENDER_U             22223 non-null uint8\n",
      "AGEGRP2_10-20        22223 non-null uint8\n",
      "AGEGRP2_20-30        22223 non-null uint8\n",
      "AGEGRP2_30-40        22223 non-null uint8\n",
      "AGEGRP2_40-50        22223 non-null uint8\n",
      "AGEGRP2_50-60        22223 non-null uint8\n",
      "AGEGRP2_60-70        22223 non-null uint8\n",
      "AGEGRP2_70-80        22223 non-null uint8\n",
      "NGROUP_A             22223 non-null uint8\n",
      "NGROUP_B             22223 non-null uint8\n",
      "NGROUP_C             22223 non-null uint8\n",
      "NGROUP_D             22223 non-null uint8\n",
      "NGROUP_E             22223 non-null uint8\n",
      "NGROUP_F             22223 non-null uint8\n",
      "NGROUP_U             22223 non-null uint8\n",
      "REGION_Midlands      22223 non-null uint8\n",
      "REGION_North         22223 non-null uint8\n",
      "REGION_Scottish      22223 non-null uint8\n",
      "REGION_South East    22223 non-null uint8\n",
      "REGION_South West    22223 non-null uint8\n",
      "CLASS_Gold           22223 non-null uint8\n",
      "CLASS_Platinum       22223 non-null uint8\n",
      "CLASS_Silver         22223 non-null uint8\n",
      "CLASS_Tin            22223 non-null uint8\n",
      "dtypes: float64(3), int64(1), uint8(26)\n",
      "memory usage: 2.0 MB\n"
     ]
    }
   ],
   "source": [
    "df=pd.get_dummies(df)\n",
    "df.info()"
   ]
  },
  {
   "cell_type": "code",
   "execution_count": null,
   "metadata": {
    "collapsed": true
   },
   "outputs": [],
   "source": []
  },
  {
   "cell_type": "code",
   "execution_count": 17,
   "metadata": {},
   "outputs": [
    {
     "ename": "ValueError",
     "evalue": "Input contains NaN, infinity or a value too large for dtype('float64').",
     "output_type": "error",
     "traceback": [
      "\u001b[1;31m---------------------------------------------------------------------------\u001b[0m",
      "\u001b[1;31mValueError\u001b[0m                                Traceback (most recent call last)",
      "\u001b[1;32m<ipython-input-17-771027266062>\u001b[0m in \u001b[0;36m<module>\u001b[1;34m()\u001b[0m\n\u001b[0;32m     12\u001b[0m \u001b[0mX_train\u001b[0m\u001b[1;33m,\u001b[0m \u001b[0mX_test\u001b[0m\u001b[1;33m,\u001b[0m \u001b[0my_train\u001b[0m\u001b[1;33m,\u001b[0m \u001b[0my_test\u001b[0m \u001b[1;33m=\u001b[0m \u001b[0mtrain_test_split\u001b[0m\u001b[1;33m(\u001b[0m\u001b[0mX_mat\u001b[0m\u001b[1;33m,\u001b[0m \u001b[0my\u001b[0m\u001b[1;33m,\u001b[0m \u001b[0mtest_size\u001b[0m\u001b[1;33m=\u001b[0m\u001b[1;36m0.3\u001b[0m\u001b[1;33m,\u001b[0m \u001b[0mstratify\u001b[0m\u001b[1;33m=\u001b[0m\u001b[0my\u001b[0m\u001b[1;33m,\u001b[0m \u001b[0mrandom_state\u001b[0m\u001b[1;33m=\u001b[0m\u001b[0mrs\u001b[0m\u001b[1;33m)\u001b[0m\u001b[1;33m\u001b[0m\u001b[0m\n\u001b[0;32m     13\u001b[0m \u001b[0mscaler\u001b[0m \u001b[1;33m=\u001b[0m \u001b[0mStandardScaler\u001b[0m\u001b[1;33m(\u001b[0m\u001b[1;33m)\u001b[0m\u001b[1;33m\u001b[0m\u001b[0m\n\u001b[1;32m---> 14\u001b[1;33m \u001b[0mX_train\u001b[0m \u001b[1;33m=\u001b[0m \u001b[0mscaler\u001b[0m\u001b[1;33m.\u001b[0m\u001b[0mfit_transform\u001b[0m\u001b[1;33m(\u001b[0m\u001b[0mX_train\u001b[0m\u001b[1;33m)\u001b[0m\u001b[1;33m\u001b[0m\u001b[0m\n\u001b[0m\u001b[0;32m     15\u001b[0m \u001b[0mX_test\u001b[0m \u001b[1;33m=\u001b[0m \u001b[0mscaler\u001b[0m\u001b[1;33m.\u001b[0m\u001b[0mtransform\u001b[0m\u001b[1;33m(\u001b[0m\u001b[0mX_test\u001b[0m\u001b[1;33m)\u001b[0m \u001b[1;31m# don't fit this\u001b[0m\u001b[1;33m\u001b[0m\u001b[0m\n\u001b[0;32m     16\u001b[0m \u001b[1;31m# first logistic regression\u001b[0m\u001b[1;33m\u001b[0m\u001b[1;33m\u001b[0m\u001b[0m\n",
      "\u001b[1;32mC:\\Program Files (x86)\\Microsoft Visual Studio\\Shared\\Anaconda3_64\\lib\\site-packages\\sklearn\\base.py\u001b[0m in \u001b[0;36mfit_transform\u001b[1;34m(self, X, y, **fit_params)\u001b[0m\n\u001b[0;32m    516\u001b[0m         \u001b[1;32mif\u001b[0m \u001b[0my\u001b[0m \u001b[1;32mis\u001b[0m \u001b[1;32mNone\u001b[0m\u001b[1;33m:\u001b[0m\u001b[1;33m\u001b[0m\u001b[0m\n\u001b[0;32m    517\u001b[0m             \u001b[1;31m# fit method of arity 1 (unsupervised transformation)\u001b[0m\u001b[1;33m\u001b[0m\u001b[1;33m\u001b[0m\u001b[0m\n\u001b[1;32m--> 518\u001b[1;33m             \u001b[1;32mreturn\u001b[0m \u001b[0mself\u001b[0m\u001b[1;33m.\u001b[0m\u001b[0mfit\u001b[0m\u001b[1;33m(\u001b[0m\u001b[0mX\u001b[0m\u001b[1;33m,\u001b[0m \u001b[1;33m**\u001b[0m\u001b[0mfit_params\u001b[0m\u001b[1;33m)\u001b[0m\u001b[1;33m.\u001b[0m\u001b[0mtransform\u001b[0m\u001b[1;33m(\u001b[0m\u001b[0mX\u001b[0m\u001b[1;33m)\u001b[0m\u001b[1;33m\u001b[0m\u001b[0m\n\u001b[0m\u001b[0;32m    519\u001b[0m         \u001b[1;32melse\u001b[0m\u001b[1;33m:\u001b[0m\u001b[1;33m\u001b[0m\u001b[0m\n\u001b[0;32m    520\u001b[0m             \u001b[1;31m# fit method of arity 2 (supervised transformation)\u001b[0m\u001b[1;33m\u001b[0m\u001b[1;33m\u001b[0m\u001b[0m\n",
      "\u001b[1;32mC:\\Program Files (x86)\\Microsoft Visual Studio\\Shared\\Anaconda3_64\\lib\\site-packages\\sklearn\\preprocessing\\data.py\u001b[0m in \u001b[0;36mfit\u001b[1;34m(self, X, y)\u001b[0m\n\u001b[0;32m    588\u001b[0m         \u001b[1;31m# Reset internal state before fitting\u001b[0m\u001b[1;33m\u001b[0m\u001b[1;33m\u001b[0m\u001b[0m\n\u001b[0;32m    589\u001b[0m         \u001b[0mself\u001b[0m\u001b[1;33m.\u001b[0m\u001b[0m_reset\u001b[0m\u001b[1;33m(\u001b[0m\u001b[1;33m)\u001b[0m\u001b[1;33m\u001b[0m\u001b[0m\n\u001b[1;32m--> 590\u001b[1;33m         \u001b[1;32mreturn\u001b[0m \u001b[0mself\u001b[0m\u001b[1;33m.\u001b[0m\u001b[0mpartial_fit\u001b[0m\u001b[1;33m(\u001b[0m\u001b[0mX\u001b[0m\u001b[1;33m,\u001b[0m \u001b[0my\u001b[0m\u001b[1;33m)\u001b[0m\u001b[1;33m\u001b[0m\u001b[0m\n\u001b[0m\u001b[0;32m    591\u001b[0m \u001b[1;33m\u001b[0m\u001b[0m\n\u001b[0;32m    592\u001b[0m     \u001b[1;32mdef\u001b[0m \u001b[0mpartial_fit\u001b[0m\u001b[1;33m(\u001b[0m\u001b[0mself\u001b[0m\u001b[1;33m,\u001b[0m \u001b[0mX\u001b[0m\u001b[1;33m,\u001b[0m \u001b[0my\u001b[0m\u001b[1;33m=\u001b[0m\u001b[1;32mNone\u001b[0m\u001b[1;33m)\u001b[0m\u001b[1;33m:\u001b[0m\u001b[1;33m\u001b[0m\u001b[0m\n",
      "\u001b[1;32mC:\\Program Files (x86)\\Microsoft Visual Studio\\Shared\\Anaconda3_64\\lib\\site-packages\\sklearn\\preprocessing\\data.py\u001b[0m in \u001b[0;36mpartial_fit\u001b[1;34m(self, X, y)\u001b[0m\n\u001b[0;32m    610\u001b[0m         \"\"\"\n\u001b[0;32m    611\u001b[0m         X = check_array(X, accept_sparse=('csr', 'csc'), copy=self.copy,\n\u001b[1;32m--> 612\u001b[1;33m                         warn_on_dtype=True, estimator=self, dtype=FLOAT_DTYPES)\n\u001b[0m\u001b[0;32m    613\u001b[0m \u001b[1;33m\u001b[0m\u001b[0m\n\u001b[0;32m    614\u001b[0m         \u001b[1;31m# Even in the case of `with_mean=False`, we update the mean anyway\u001b[0m\u001b[1;33m\u001b[0m\u001b[1;33m\u001b[0m\u001b[0m\n",
      "\u001b[1;32mC:\\Program Files (x86)\\Microsoft Visual Studio\\Shared\\Anaconda3_64\\lib\\site-packages\\sklearn\\utils\\validation.py\u001b[0m in \u001b[0;36mcheck_array\u001b[1;34m(array, accept_sparse, dtype, order, copy, force_all_finite, ensure_2d, allow_nd, ensure_min_samples, ensure_min_features, warn_on_dtype, estimator)\u001b[0m\n\u001b[0;32m    420\u001b[0m                              % (array.ndim, estimator_name))\n\u001b[0;32m    421\u001b[0m         \u001b[1;32mif\u001b[0m \u001b[0mforce_all_finite\u001b[0m\u001b[1;33m:\u001b[0m\u001b[1;33m\u001b[0m\u001b[0m\n\u001b[1;32m--> 422\u001b[1;33m             \u001b[0m_assert_all_finite\u001b[0m\u001b[1;33m(\u001b[0m\u001b[0marray\u001b[0m\u001b[1;33m)\u001b[0m\u001b[1;33m\u001b[0m\u001b[0m\n\u001b[0m\u001b[0;32m    423\u001b[0m \u001b[1;33m\u001b[0m\u001b[0m\n\u001b[0;32m    424\u001b[0m     \u001b[0mshape_repr\u001b[0m \u001b[1;33m=\u001b[0m \u001b[0m_shape_repr\u001b[0m\u001b[1;33m(\u001b[0m\u001b[0marray\u001b[0m\u001b[1;33m.\u001b[0m\u001b[0mshape\u001b[0m\u001b[1;33m)\u001b[0m\u001b[1;33m\u001b[0m\u001b[0m\n",
      "\u001b[1;32mC:\\Program Files (x86)\\Microsoft Visual Studio\\Shared\\Anaconda3_64\\lib\\site-packages\\sklearn\\utils\\validation.py\u001b[0m in \u001b[0;36m_assert_all_finite\u001b[1;34m(X)\u001b[0m\n\u001b[0;32m     41\u001b[0m             and not np.isfinite(X).all()):\n\u001b[0;32m     42\u001b[0m         raise ValueError(\"Input contains NaN, infinity\"\n\u001b[1;32m---> 43\u001b[1;33m                          \" or a value too large for %r.\" % X.dtype)\n\u001b[0m\u001b[0;32m     44\u001b[0m \u001b[1;33m\u001b[0m\u001b[0m\n\u001b[0;32m     45\u001b[0m \u001b[1;33m\u001b[0m\u001b[0m\n",
      "\u001b[1;31mValueError\u001b[0m: Input contains NaN, infinity or a value too large for dtype('float64')."
     ]
    }
   ],
   "source": [
    "from sklearn.preprocessing import StandardScaler\n",
    "from sklearn.linear_model import LogisticRegression\n",
    "from sklearn.model_selection import GridSearchCV\n",
    "\n",
    "\n",
    "# split into training and test\n",
    "rs = 0\n",
    "X = df.drop(['ORGYN'], axis=1)\n",
    "y = df['ORGYN']\n",
    "\n",
    "X_mat = X.as_matrix()\n",
    "X_train, X_test, y_train, y_test = train_test_split(X_mat, y, test_size=0.3, stratify=y, random_state=rs)\n",
    "scaler = StandardScaler()\n",
    "X_train = scaler.fit_transform(X_train)\n",
    "X_test = scaler.transform(X_test) # don't fit this\n",
    "# first logistic regression\n",
    "logreg = LogisticRegression()\n",
    "logreg.fit(X_train, y_train) # fit\n",
    "\n",
    "print(\"Training accuracy:\", logreg.score(X_train, y_train))\n",
    "print(\"Test accuracy:\", logreg.score(X_test, y_test))"
   ]
  },
  {
   "cell_type": "code",
   "execution_count": 18,
   "metadata": {},
   "outputs": [
    {
     "name": "stdout",
     "output_type": "stream",
     "text": [
      "<class 'pandas.core.frame.DataFrame'>\n",
      "Int64Index: 22223 entries, 140 to 52856469\n",
      "Data columns (total 29 columns):\n",
      "BILL                 22223 non-null float64\n",
      "AFFL                 21138 non-null float64\n",
      "LTIME                21942 non-null float64\n",
      "GENDER_F             22223 non-null uint8\n",
      "GENDER_M             22223 non-null uint8\n",
      "GENDER_U             22223 non-null uint8\n",
      "AGEGRP2_10-20        22223 non-null uint8\n",
      "AGEGRP2_20-30        22223 non-null uint8\n",
      "AGEGRP2_30-40        22223 non-null uint8\n",
      "AGEGRP2_40-50        22223 non-null uint8\n",
      "AGEGRP2_50-60        22223 non-null uint8\n",
      "AGEGRP2_60-70        22223 non-null uint8\n",
      "AGEGRP2_70-80        22223 non-null uint8\n",
      "NGROUP_A             22223 non-null uint8\n",
      "NGROUP_B             22223 non-null uint8\n",
      "NGROUP_C             22223 non-null uint8\n",
      "NGROUP_D             22223 non-null uint8\n",
      "NGROUP_E             22223 non-null uint8\n",
      "NGROUP_F             22223 non-null uint8\n",
      "NGROUP_U             22223 non-null uint8\n",
      "REGION_Midlands      22223 non-null uint8\n",
      "REGION_North         22223 non-null uint8\n",
      "REGION_Scottish      22223 non-null uint8\n",
      "REGION_South East    22223 non-null uint8\n",
      "REGION_South West    22223 non-null uint8\n",
      "CLASS_Gold           22223 non-null uint8\n",
      "CLASS_Platinum       22223 non-null uint8\n",
      "CLASS_Silver         22223 non-null uint8\n",
      "CLASS_Tin            22223 non-null uint8\n",
      "dtypes: float64(3), uint8(26)\n",
      "memory usage: 1.9 MB\n"
     ]
    }
   ],
   "source": [
    "X.info()"
   ]
  },
  {
   "cell_type": "code",
   "execution_count": null,
   "metadata": {
    "collapsed": true
   },
   "outputs": [],
   "source": []
  },
  {
   "cell_type": "code",
   "execution_count": null,
   "metadata": {
    "collapsed": true
   },
   "outputs": [],
   "source": []
  }
 ],
 "metadata": {
  "kernelspec": {
   "display_name": "Python 3",
   "language": "python",
   "name": "python3"
  },
  "language_info": {
   "codemirror_mode": {
    "name": "ipython",
    "version": 3
   },
   "file_extension": ".py",
   "mimetype": "text/x-python",
   "name": "python",
   "nbconvert_exporter": "python",
   "pygments_lexer": "ipython3",
   "version": "3.6.3"
  }
 },
 "nbformat": 4,
 "nbformat_minor": 2
}
